{
 "cells": [
  {
   "cell_type": "code",
   "execution_count": 1,
   "id": "d727f96c",
   "metadata": {},
   "outputs": [],
   "source": [
    "import pandas as pd\n",
    "import pymongo"
   ]
  },
  {
   "cell_type": "code",
   "execution_count": 2,
   "id": "8a09c4f9",
   "metadata": {},
   "outputs": [
    {
     "name": "stderr",
     "output_type": "stream",
     "text": [
      "/var/folders/12/2snybqxx3h309m1r0_cwfmsm0000gn/T/ipykernel_30761/2131722810.py:1: ParserWarning: Falling back to the 'python' engine because the 'c' engine does not support regex separators (separators > 1 char and different from '\\s+' are interpreted as regex); you can avoid this warning by specifying engine='python'.\n",
      "  df = pd.read_csv('data/ref1.txt', sep=';;', header=None)\n",
      "/var/folders/12/2snybqxx3h309m1r0_cwfmsm0000gn/T/ipykernel_30761/2131722810.py:2: ParserWarning: Falling back to the 'python' engine because the 'c' engine does not support regex separators (separators > 1 char and different from '\\s+' are interpreted as regex); you can avoid this warning by specifying engine='python'.\n",
      "  df2 = pd.read_csv('data/ref2.txt', sep=';;', header=None)\n",
      "/var/folders/12/2snybqxx3h309m1r0_cwfmsm0000gn/T/ipykernel_30761/2131722810.py:3: ParserWarning: Falling back to the 'python' engine because the 'c' engine does not support regex separators (separators > 1 char and different from '\\s+' are interpreted as regex); you can avoid this warning by specifying engine='python'.\n",
      "  df3 = pd.read_csv('data/ref3.txt', sep=';;', header=None)\n"
     ]
    }
   ],
   "source": [
    "df = pd.read_csv('data/ref1.txt', sep=';;', header=None)\n",
    "df2 = pd.read_csv('data/ref2.txt', sep=';;', header=None)\n",
    "df3 = pd.read_csv('data/ref3.txt', sep=';;', header=None)"
   ]
  },
  {
   "cell_type": "code",
   "execution_count": 3,
   "id": "17da9cd3",
   "metadata": {},
   "outputs": [],
   "source": [
    "# Connect to MongoDB\n",
    "client = pymongo.MongoClient('your_mongo_uri')"
   ]
  },
  {
   "cell_type": "code",
   "execution_count": 4,
   "id": "f7a790d1",
   "metadata": {},
   "outputs": [],
   "source": [
    "# merge the three dataframes\n",
    "df = pd.concat([df, df2, df3], axis=0)\n",
    "\n",
    "#rename the columns to 'title', 'abstract', 'url'\n",
    "df.columns = ['title', 'abstract', 'url']\n",
    "\n",
    "# add a 'classifications' column, filled with an empty list\n",
    "df['classifications'] = [[] for _ in range(len(df))]"
   ]
  },
  {
   "cell_type": "code",
   "execution_count": 5,
   "id": "3155aec8",
   "metadata": {},
   "outputs": [],
   "source": [
    "# save it to a csv file\n",
    "# df.to_csv('data/ZTF_related_papers.csv', index=False)"
   ]
  },
  {
   "cell_type": "code",
   "execution_count": null,
   "id": "96155dca",
   "metadata": {},
   "outputs": [],
   "source": [
    "#push all the data to MongoDB (could probably be done in bulk to be much faster)\n",
    "for (i, row) in df.iterrows():\n",
    "    try:\n",
    "        doc = row.to_dict()\n",
    "        client['test']['paper'].insert_one(doc)\n",
    "    except:\n",
    "        print(f'Error at index {i}')"
   ]
  }
 ],
 "metadata": {
  "kernelspec": {
   "display_name": "Python 3 (ipykernel)",
   "language": "python",
   "name": "python3"
  },
  "language_info": {
   "codemirror_mode": {
    "name": "ipython",
    "version": 3
   },
   "file_extension": ".py",
   "mimetype": "text/x-python",
   "name": "python",
   "nbconvert_exporter": "python",
   "pygments_lexer": "ipython3",
   "version": "3.10.10"
  }
 },
 "nbformat": 4,
 "nbformat_minor": 5
}
